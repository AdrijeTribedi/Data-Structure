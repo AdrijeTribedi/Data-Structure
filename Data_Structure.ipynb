{
  "nbformat": 4,
  "nbformat_minor": 0,
  "metadata": {
    "colab": {
      "provenance": []
    },
    "kernelspec": {
      "name": "python3",
      "display_name": "Python 3"
    },
    "language_info": {
      "name": "python"
    }
  },
  "cells": [
    {
      "cell_type": "markdown",
      "source": [
        "**DATA TYPE AND DATA STRUCTURE QUESTIONS**"
      ],
      "metadata": {
        "id": "BPtWUXLKDmqc"
      }
    },
    {
      "cell_type": "markdown",
      "source": [
        "1> What are data structures, and why are they important ?\n",
        "- The way to organizing  and stored data so that it can be acessed and manupulated effectively .\n",
        "- Data structure are important because without organizing and storing  the data we can not acess or manupulate the data.\n",
        "\n"
      ],
      "metadata": {
        "id": "bW2vLZWQ5bWV"
      }
    },
    {
      "cell_type": "markdown",
      "source": [
        " 2> Explain the difference between mutable and immutable data types with examples.\n",
        " - Mutable data type-> mutable data type are those whose value or object can  be changed after they are created,like lists,dictionaries,sets\n",
        " - Immutable data type-> immutable data type are those whose value can not be changed after they are created,like strings,integers,tuples"
      ],
      "metadata": {
        "id": "o3v84rfA7IvK"
      }
    },
    {
      "cell_type": "code",
      "source": [
        "#mutable data type\n",
        "my_list = [1,2,3]\n",
        "my_list[2] = 5\n",
        "print(my_list)"
      ],
      "metadata": {
        "colab": {
          "base_uri": "https://localhost:8080/"
        },
        "id": "isgqzOyh87ik",
        "outputId": "fa867386-dac4-4cd4-9d3f-bf0e998acfcf"
      },
      "execution_count": null,
      "outputs": [
        {
          "output_type": "stream",
          "name": "stdout",
          "text": [
            "[1, 2, 5]\n"
          ]
        }
      ]
    },
    {
      "cell_type": "code",
      "source": [
        "#immutable data type\n",
        "my_tuple = (3,4,7)\n",
        "my_tuple[0] = 3\n",
        "print(my_tuple)"
      ],
      "metadata": {
        "colab": {
          "base_uri": "https://localhost:8080/",
          "height": 193
        },
        "id": "eiGHXPT59bGu",
        "outputId": "8da19e99-b96d-494c-afa9-f2dd83ff3f3e"
      },
      "execution_count": null,
      "outputs": [
        {
          "output_type": "error",
          "ename": "TypeError",
          "evalue": "'tuple' object does not support item assignment",
          "traceback": [
            "\u001b[0;31m---------------------------------------------------------------------------\u001b[0m",
            "\u001b[0;31mTypeError\u001b[0m                                 Traceback (most recent call last)",
            "\u001b[0;32m<ipython-input-2-f27fe2e64dac>\u001b[0m in \u001b[0;36m<cell line: 0>\u001b[0;34m()\u001b[0m\n\u001b[1;32m      1\u001b[0m \u001b[0;31m#immutable data type\u001b[0m\u001b[0;34m\u001b[0m\u001b[0;34m\u001b[0m\u001b[0m\n\u001b[1;32m      2\u001b[0m \u001b[0mmy_tuple\u001b[0m \u001b[0;34m=\u001b[0m \u001b[0;34m(\u001b[0m\u001b[0;36m3\u001b[0m\u001b[0;34m,\u001b[0m\u001b[0;36m4\u001b[0m\u001b[0;34m,\u001b[0m\u001b[0;36m7\u001b[0m\u001b[0;34m)\u001b[0m\u001b[0;34m\u001b[0m\u001b[0;34m\u001b[0m\u001b[0m\n\u001b[0;32m----> 3\u001b[0;31m \u001b[0mmy_tuple\u001b[0m\u001b[0;34m[\u001b[0m\u001b[0;36m0\u001b[0m\u001b[0;34m]\u001b[0m \u001b[0;34m=\u001b[0m \u001b[0;36m3\u001b[0m\u001b[0;34m\u001b[0m\u001b[0;34m\u001b[0m\u001b[0m\n\u001b[0m\u001b[1;32m      4\u001b[0m \u001b[0mprint\u001b[0m\u001b[0;34m(\u001b[0m\u001b[0mmy_tuple\u001b[0m\u001b[0;34m)\u001b[0m\u001b[0;34m\u001b[0m\u001b[0;34m\u001b[0m\u001b[0m\n",
            "\u001b[0;31mTypeError\u001b[0m: 'tuple' object does not support item assignment"
          ]
        }
      ]
    },
    {
      "cell_type": "markdown",
      "source": [
        "3> What are the main differences between lists and tuples in Python ?\n",
        "- Lists are mutable data type that means after creating a list we can change value any of the element inside the list,but tuples are immutable data type,we can not changed any of the element inside a tuple,that is the main difference between lists and tuples."
      ],
      "metadata": {
        "id": "nwrj6M3R94JM"
      }
    },
    {
      "cell_type": "markdown",
      "source": [
        "4>Describe how dictionaries store data ?\n",
        "- Dictionaries store data in key value pair.Every value is introduced by a key,when we need to introduce data in some particualr identity,then we use dictionaries,user name and it's detail where user name is a identity and it's detail will be introduced by the user name"
      ],
      "metadata": {
        "id": "R3z2Aft9_RVi"
      }
    },
    {
      "cell_type": "markdown",
      "source": [
        "5>  Why might you use a set instead of a list in Python ?\n",
        "- Sets are unordered and unique collection of elements.Where as lists are not unique collection of elements it takes every elements inside the list.We use sets instead of list to get unique elements inside a set and not to repeat those elements.\n"
      ],
      "metadata": {
        "id": "6q14Y3RdCKQG"
      }
    },
    {
      "cell_type": "markdown",
      "source": [
        "6>  What is a string in Python, and how is it different from a list ?\n",
        "- String is a suquence of character,which can represent or manupulate textual data,we can not change any character of a string after they are created.\n",
        "Tho we can not change any character of a string but we can change any element in a list because strings are immutable but lists are mutable,that is the main difference between a list and a string"
      ],
      "metadata": {
        "id": "Z8M50fpUEUCi"
      }
    },
    {
      "cell_type": "markdown",
      "source": [
        "7>  How do tuples ensure data integrity in Python ?"
      ],
      "metadata": {
        "id": "ETe_0uQOGvU3"
      }
    },
    {
      "cell_type": "markdown",
      "source": [
        "8>  What is a hash table, and how does it relate to dictionaries in Python ?"
      ],
      "metadata": {
        "id": "Bk8YmF78HI4J"
      }
    },
    {
      "cell_type": "markdown",
      "source": [
        " 9> Can lists contain different data types in Python ?\n",
        " - Yes,list can store heteroginious data type,that means it can store any data type present in python"
      ],
      "metadata": {
        "id": "hN30itr5HSo1"
      }
    },
    {
      "cell_type": "markdown",
      "source": [
        "10>  Explain why strings are immutable in Python.\n",
        "- Immutable data type are those whose value can not be changed after they are created and string also follow this rule after creating a string we can not change any chacacter in it."
      ],
      "metadata": {
        "id": "GFpdF6NJIKFV"
      }
    },
    {
      "cell_type": "code",
      "source": [
        "string1 = \"Adrije\"\n",
        "string1[0] = \"J\"\n",
        "print(string1)"
      ],
      "metadata": {
        "colab": {
          "base_uri": "https://localhost:8080/",
          "height": 176
        },
        "id": "-s25guTLI_I2",
        "outputId": "ed975e94-653a-4443-8e91-259a1b739d8f"
      },
      "execution_count": null,
      "outputs": [
        {
          "output_type": "error",
          "ename": "TypeError",
          "evalue": "'str' object does not support item assignment",
          "traceback": [
            "\u001b[0;31m---------------------------------------------------------------------------\u001b[0m",
            "\u001b[0;31mTypeError\u001b[0m                                 Traceback (most recent call last)",
            "\u001b[0;32m<ipython-input-3-1e95ed9004aa>\u001b[0m in \u001b[0;36m<cell line: 0>\u001b[0;34m()\u001b[0m\n\u001b[1;32m      1\u001b[0m \u001b[0mstring1\u001b[0m \u001b[0;34m=\u001b[0m \u001b[0;34m\"Adrije\"\u001b[0m\u001b[0;34m\u001b[0m\u001b[0;34m\u001b[0m\u001b[0m\n\u001b[0;32m----> 2\u001b[0;31m \u001b[0mstring1\u001b[0m\u001b[0;34m[\u001b[0m\u001b[0;36m0\u001b[0m\u001b[0;34m]\u001b[0m \u001b[0;34m=\u001b[0m \u001b[0;34m\"J\"\u001b[0m\u001b[0;34m\u001b[0m\u001b[0;34m\u001b[0m\u001b[0m\n\u001b[0m\u001b[1;32m      3\u001b[0m \u001b[0mprint\u001b[0m\u001b[0;34m(\u001b[0m\u001b[0mstring1\u001b[0m\u001b[0;34m)\u001b[0m\u001b[0;34m\u001b[0m\u001b[0;34m\u001b[0m\u001b[0m\n",
            "\u001b[0;31mTypeError\u001b[0m: 'str' object does not support item assignment"
          ]
        }
      ]
    },
    {
      "cell_type": "markdown",
      "source": [
        "11>  What advantages do dictionaries offer over lists for certain tasks ?\n",
        "- Dictionaries offer several adventages over a list\n",
        "- **Time Complexcity** -> Dictionaries takes very less time to execute a code than a list\n",
        "- **Key and Value Pair** -> Dictionaries have key value pair by that we can introduce any value by key\n",
        "- **Flexeblity of key** -> In dictionaries key can have any immutable data type by that it can introduce any data type.\n",
        "- Whereas list do not have those phichers like a dictionaries"
      ],
      "metadata": {
        "id": "of73eYDeJbNR"
      }
    },
    {
      "cell_type": "markdown",
      "source": [
        "12>  Describe a scenario where using a tuple would be preferable over a list ?\n",
        "- We use tuple to not to change the value of it and we use list where we want to change elements inside it.\n",
        "The best scenario to use tuple instaed of list will be making a aadhar card where we don't want to change the aadhar id.  "
      ],
      "metadata": {
        "id": "gOXH-kZdMowk"
      }
    },
    {
      "cell_type": "markdown",
      "source": [
        "13>  How do sets handle duplicate values in Python ?\n",
        "- Sets are unordered and unique collection of elements.It can not print the duplicate value present in the set we can have only unique value,stes do not print elements which are printed once."
      ],
      "metadata": {
        "id": "88DbwrbDOTQL"
      }
    },
    {
      "cell_type": "markdown",
      "source": [
        "14>  How does the “in” keyword work differently for lists and dictionaries ?\n",
        "- List -> In a list the in keyword is used to ckeck the presence of elements by iterating through the list and compairing each element to the target value.\n",
        "- Dictionaries -> In a dictionary the in keyword is used to ckeck the presence of key by hash-based lookup."
      ],
      "metadata": {
        "id": "fkpJ5P5RPjG6"
      }
    },
    {
      "cell_type": "markdown",
      "source": [
        "15> Can you modify the elements of a tuple? Explain why or why not.\n",
        "- Yes,we can modify elements in tuples,we can not add  elements from a tuple but we can remove elements from tuples."
      ],
      "metadata": {
        "id": "7B800H71R1Q-"
      }
    },
    {
      "cell_type": "code",
      "source": [
        "t1 = (\"Adrije\",\"Ajay\",1,2.4,True,False,2+6j)\n",
        "print(t1[:-2])"
      ],
      "metadata": {
        "colab": {
          "base_uri": "https://localhost:8080/"
        },
        "id": "WXE9NChFTtsn",
        "outputId": "ede66054-d0bf-4604-b8cf-1d659854fd91"
      },
      "execution_count": null,
      "outputs": [
        {
          "output_type": "execute_result",
          "data": {
            "text/plain": [
              "('Adrije', 'Ajay', 1, 2.4, True)"
            ]
          },
          "metadata": {},
          "execution_count": 6
        }
      ]
    },
    {
      "cell_type": "markdown",
      "source": [
        "16>  What is a nested dictionary, and give an example of its use case ?\n",
        "- Example->"
      ],
      "metadata": {
        "id": "ZZ0sLiG-Vjp1"
      }
    },
    {
      "cell_type": "code",
      "source": [
        "emp_records = {\n",
        "    \"E001\" : {\"name\":\"Amit Das\",\"Department\":\"Engineering\",\"salary\":80000},\n",
        "    \"E002\" : {\"name\":\"Abhijit Bose\",\"Department\":\"Markiting\",\"salary\":75000},\n",
        "    \"E003\" : {\"name\":\"Bijay Gupta\",\"Dapartment\":\"finance\",\"salary\":50000}\n",
        "}\n",
        "print(emp_records.get(\"E001\"))"
      ],
      "metadata": {
        "colab": {
          "base_uri": "https://localhost:8080/"
        },
        "id": "MBeVA5UkVyhI",
        "outputId": "d7f47643-363a-41fb-da21-aaf293f4747f"
      },
      "execution_count": null,
      "outputs": [
        {
          "output_type": "stream",
          "name": "stdout",
          "text": [
            "{'name': 'Amit Das', 'Department': 'Engineering', 'salary': 80000}\n"
          ]
        }
      ]
    },
    {
      "cell_type": "markdown",
      "source": [
        " 17> Describe the time complexity of accessing elements in a dictionary ?\n",
        " - Acessing a element in a dictionary by a key has a average time complexcity of 0(1) due to hash-base lookup up mechanism.It makes dictionay lookup very effective."
      ],
      "metadata": {
        "id": "E2aAsBvDYpww"
      }
    },
    {
      "cell_type": "markdown",
      "source": [
        "18>  In what situations are lists preferred over dictionaries ?\n",
        "- List do not have key value pair,so where we don't need to introduce any element by a key.There we can use list over dictionary."
      ],
      "metadata": {
        "id": "d_nlSoosbHKP"
      }
    },
    {
      "cell_type": "markdown",
      "source": [
        "19> Why are dictionaries considered unordered, and how does that affect data retrieval?"
      ],
      "metadata": {
        "id": "XjBS6ThJbvBV"
      }
    },
    {
      "cell_type": "markdown",
      "source": [
        "20>Explain the difference between a list and a dictionary in terms of data retrieval."
      ],
      "metadata": {
        "id": "oZ9bPFk_cEWH"
      }
    },
    {
      "cell_type": "markdown",
      "source": [
        "**PRACTICAL QUESTION**"
      ],
      "metadata": {
        "id": "E6FqdH8bcdlK"
      }
    },
    {
      "cell_type": "markdown",
      "source": [
        "1> Write a code to create a string with your name and print it."
      ],
      "metadata": {
        "id": "fO-pqN2Ecy2x"
      }
    },
    {
      "cell_type": "code",
      "source": [
        "a = \"Adrije Tribedi\"\n",
        "print(a)"
      ],
      "metadata": {
        "colab": {
          "base_uri": "https://localhost:8080/"
        },
        "id": "hLEpjUG4dOPA",
        "outputId": "33404a26-bb1d-44f6-e458-068cda0d6b7e"
      },
      "execution_count": null,
      "outputs": [
        {
          "output_type": "stream",
          "name": "stdout",
          "text": [
            "Adrije Tribedi\n"
          ]
        }
      ]
    },
    {
      "cell_type": "markdown",
      "source": [
        "2> Write a code to find the length of the string \"Hello World\"."
      ],
      "metadata": {
        "id": "MG6lJ4WodiaF"
      }
    },
    {
      "cell_type": "code",
      "source": [
        "b = \"Hello World\"\n",
        "print(len(b))"
      ],
      "metadata": {
        "colab": {
          "base_uri": "https://localhost:8080/"
        },
        "id": "D9fvPHPLdoMo",
        "outputId": "90c79df1-dd1b-45ed-d360-1726dabe607f"
      },
      "execution_count": null,
      "outputs": [
        {
          "output_type": "stream",
          "name": "stdout",
          "text": [
            "11\n"
          ]
        }
      ]
    },
    {
      "cell_type": "markdown",
      "source": [
        "3> Write a code to slice the first 3 characters from the string \"Python Programming\""
      ],
      "metadata": {
        "id": "tP6AtsIud3o2"
      }
    },
    {
      "cell_type": "code",
      "source": [
        "stri1 = \"Python Prigamming\"\n",
        "sliced_string = stri1[0:3]\n",
        "print(sliced_string)"
      ],
      "metadata": {
        "colab": {
          "base_uri": "https://localhost:8080/"
        },
        "id": "PYDTWhRFd7T6",
        "outputId": "a86e459e-9404-4e93-a80f-63f702cdb564"
      },
      "execution_count": null,
      "outputs": [
        {
          "output_type": "stream",
          "name": "stdout",
          "text": [
            "Pyt\n"
          ]
        }
      ]
    },
    {
      "cell_type": "markdown",
      "source": [
        "4>  Write a code to convert the string \"hello\" to uppercase."
      ],
      "metadata": {
        "id": "ZcujSvRafMhs"
      }
    },
    {
      "cell_type": "code",
      "source": [
        "x = \"hello\"\n",
        "print(x.upper())"
      ],
      "metadata": {
        "colab": {
          "base_uri": "https://localhost:8080/"
        },
        "id": "pYASKWJKfQ8W",
        "outputId": "fbb45073-3257-4837-da00-22cb9e310856"
      },
      "execution_count": null,
      "outputs": [
        {
          "output_type": "stream",
          "name": "stdout",
          "text": [
            "HELLO\n"
          ]
        }
      ]
    },
    {
      "cell_type": "markdown",
      "source": [
        "5> Write a code to replace the word \"apple\" with \"orange\" in the string \"I like apple\"."
      ],
      "metadata": {
        "id": "55RdCLD1fsZW"
      }
    },
    {
      "cell_type": "code",
      "source": [
        "string2 = \"I like apple\"\n",
        "print(string2.replace(\"apple\",\"orange\"))"
      ],
      "metadata": {
        "colab": {
          "base_uri": "https://localhost:8080/"
        },
        "id": "tDCOJmkdfwbn",
        "outputId": "fcf5e34e-8944-43f0-98f9-ec5025650347"
      },
      "execution_count": null,
      "outputs": [
        {
          "output_type": "stream",
          "name": "stdout",
          "text": [
            "I like orange\n"
          ]
        }
      ]
    },
    {
      "cell_type": "markdown",
      "source": [
        "6>  Write a code to create a list with numbers 1 to 5 and print it."
      ],
      "metadata": {
        "id": "rkVzn015hKbE"
      }
    },
    {
      "cell_type": "code",
      "source": [
        "list1 = [1,2,3,4,5]\n",
        "print(list1)"
      ],
      "metadata": {
        "colab": {
          "base_uri": "https://localhost:8080/"
        },
        "id": "AATKnp8mhRVP",
        "outputId": "cc79edcc-9f39-4fef-94d1-8c1358eab030"
      },
      "execution_count": null,
      "outputs": [
        {
          "output_type": "stream",
          "name": "stdout",
          "text": [
            "[1, 2, 3, 4, 5]\n"
          ]
        }
      ]
    },
    {
      "cell_type": "markdown",
      "source": [
        "7> Write a code to append the number 10 to the list [1, 2, 3, 4]."
      ],
      "metadata": {
        "id": "c3qgf1I-hku_"
      }
    },
    {
      "cell_type": "code",
      "source": [
        "list2 = [1,2,3,4]\n",
        "list2.append(10)\n",
        "print(list2)"
      ],
      "metadata": {
        "colab": {
          "base_uri": "https://localhost:8080/"
        },
        "id": "C4irWZNohpst",
        "outputId": "7ffdb18d-b78a-4a11-df7a-c5b37dd662d2"
      },
      "execution_count": null,
      "outputs": [
        {
          "output_type": "stream",
          "name": "stdout",
          "text": [
            "[1, 2, 3, 4, 10]\n"
          ]
        }
      ]
    },
    {
      "cell_type": "markdown",
      "source": [
        "8>  Write a code to remove the number 3 from the list [1, 2, 3, 4, 5]."
      ],
      "metadata": {
        "id": "pS3XJRNaiTzd"
      }
    },
    {
      "cell_type": "code",
      "source": [
        "list3 = [1,2,3,4,5]\n",
        "list3.remove(3)\n",
        "print(list3)"
      ],
      "metadata": {
        "colab": {
          "base_uri": "https://localhost:8080/"
        },
        "id": "Uq_T4jfgiXwP",
        "outputId": "2e470e91-7675-460d-e727-2904ece12918"
      },
      "execution_count": null,
      "outputs": [
        {
          "output_type": "stream",
          "name": "stdout",
          "text": [
            "[1, 2, 4, 5]\n"
          ]
        }
      ]
    },
    {
      "cell_type": "markdown",
      "source": [
        "9>  Write a code to access the second element in the list ['a', 'b', 'c', 'd']."
      ],
      "metadata": {
        "id": "DLJ_bIRjjBjj"
      }
    },
    {
      "cell_type": "code",
      "source": [
        "list4 = ['a','b','c','d']\n",
        "print(list4[1])"
      ],
      "metadata": {
        "colab": {
          "base_uri": "https://localhost:8080/"
        },
        "id": "uGnrvNOMjFDO",
        "outputId": "6c8409c6-c27b-4052-8a46-505d6a256062"
      },
      "execution_count": null,
      "outputs": [
        {
          "output_type": "stream",
          "name": "stdout",
          "text": [
            "b\n"
          ]
        }
      ]
    },
    {
      "cell_type": "markdown",
      "source": [
        "10>  Write a code to reverse the list [10, 20, 30, 40, 50]."
      ],
      "metadata": {
        "id": "T48LbYAijpQT"
      }
    },
    {
      "cell_type": "code",
      "source": [
        "list5 = [10,20,30,40,50]\n",
        "print(list5[::-1])\n",
        "##or\n",
        "list5.reverse()\n",
        "print(list5)"
      ],
      "metadata": {
        "colab": {
          "base_uri": "https://localhost:8080/"
        },
        "id": "efhGCV1Kjsdr",
        "outputId": "04eed27d-180e-4f30-9c2f-0bbffb7312ad"
      },
      "execution_count": null,
      "outputs": [
        {
          "output_type": "stream",
          "name": "stdout",
          "text": [
            "[50, 40, 30, 20, 10]\n",
            "[50, 40, 30, 20, 10]\n"
          ]
        }
      ]
    },
    {
      "cell_type": "markdown",
      "source": [
        "11> Write a code to create a tuple with the elements 100, 200, 300 and print it."
      ],
      "metadata": {
        "id": "82XUwFZ-kbqF"
      }
    },
    {
      "cell_type": "code",
      "source": [
        "tuple1 = (100,200,300)\n",
        "print(tuple1)"
      ],
      "metadata": {
        "colab": {
          "base_uri": "https://localhost:8080/"
        },
        "id": "nfy6ZfdmkiSJ",
        "outputId": "b4fd60be-c59a-4ba8-b1d6-2e29b8641a65"
      },
      "execution_count": null,
      "outputs": [
        {
          "output_type": "stream",
          "name": "stdout",
          "text": [
            "(100, 200, 300)\n"
          ]
        }
      ]
    },
    {
      "cell_type": "markdown",
      "source": [
        "12>  Write a code to access the second-to-last element of the tuple ('red', 'green', 'blue', 'yellow')."
      ],
      "metadata": {
        "id": "8C6GyPeFk-qt"
      }
    },
    {
      "cell_type": "code",
      "source": [
        "tuple2 = ('red','green','blue','yellow')\n",
        "print(tuple2[1:])"
      ],
      "metadata": {
        "colab": {
          "base_uri": "https://localhost:8080/"
        },
        "id": "_7ZauGo_lB1d",
        "outputId": "85134e87-378e-4566-b652-4b532dc0d09c"
      },
      "execution_count": null,
      "outputs": [
        {
          "output_type": "stream",
          "name": "stdout",
          "text": [
            "('green', 'blue', 'yellow')\n"
          ]
        }
      ]
    },
    {
      "cell_type": "markdown",
      "source": [
        "13> Write a code to find the minimum number in the tuple (10, 20, 5, 15)."
      ],
      "metadata": {
        "id": "PcYMkaHBlf8y"
      }
    },
    {
      "cell_type": "code",
      "source": [
        "tuple3 = (10,20,5,15)\n",
        "print(min(tuple3))"
      ],
      "metadata": {
        "id": "K-jwdCPKlwIH",
        "colab": {
          "base_uri": "https://localhost:8080/"
        },
        "outputId": "43464331-95bf-4384-d1fb-da2b05a934d8"
      },
      "execution_count": null,
      "outputs": [
        {
          "output_type": "stream",
          "name": "stdout",
          "text": [
            "5\n"
          ]
        }
      ]
    },
    {
      "cell_type": "markdown",
      "source": [
        "14> Write a code to find the index of the element \"cat\" in the tuple ('dog', 'cat', 'rabbit')."
      ],
      "metadata": {
        "id": "lWOtptYWmU3I"
      }
    },
    {
      "cell_type": "code",
      "source": [
        "tuple4 = ('dog','cat','rabbit')\n",
        "print(tuple4.index('cat'))"
      ],
      "metadata": {
        "colab": {
          "base_uri": "https://localhost:8080/"
        },
        "id": "v2T4zKtqme2N",
        "outputId": "e9994026-a4bb-4497-87ac-9bc646d299be"
      },
      "execution_count": null,
      "outputs": [
        {
          "output_type": "stream",
          "name": "stdout",
          "text": [
            "1\n"
          ]
        }
      ]
    },
    {
      "cell_type": "markdown",
      "source": [
        "15>  Write a code to create a tuple containing three different fruits and check if \"kiwi\" is in it."
      ],
      "metadata": {
        "id": "4EQHTqEYm8qW"
      }
    },
    {
      "cell_type": "code",
      "source": [
        "tuple5 = ('apple','orange','kiwi')\n",
        "print('kiwi' in tuple5)"
      ],
      "metadata": {
        "colab": {
          "base_uri": "https://localhost:8080/"
        },
        "id": "-Byw4ZfvnAfA",
        "outputId": "a5a1c9ab-bad3-45b8-c889-906f9555cb61"
      },
      "execution_count": null,
      "outputs": [
        {
          "output_type": "stream",
          "name": "stdout",
          "text": [
            "True\n"
          ]
        }
      ]
    },
    {
      "cell_type": "markdown",
      "source": [
        " 16. Write a code to create a set with the elements 'a', 'b', 'c' and print it."
      ],
      "metadata": {
        "id": "qirCVf-Enrk8"
      }
    },
    {
      "cell_type": "code",
      "source": [
        "set1 = {'a','b','c'}\n",
        "print(set1)"
      ],
      "metadata": {
        "colab": {
          "base_uri": "https://localhost:8080/"
        },
        "id": "AEJi61iTnrFC",
        "outputId": "96b2fa2c-3909-422b-b3fd-b615743ac932"
      },
      "execution_count": null,
      "outputs": [
        {
          "output_type": "stream",
          "name": "stdout",
          "text": [
            "{'a', 'b', 'c'}\n"
          ]
        }
      ]
    },
    {
      "cell_type": "markdown",
      "source": [
        " 17. Write a code to clear all elements from the set {1, 2, 3, 4, 5}."
      ],
      "metadata": {
        "id": "VBZxSdIGoEi7"
      }
    },
    {
      "cell_type": "code",
      "source": [
        "set2 = {1,2,3,4,5}\n",
        "set2.clear()\n",
        "print(set2)"
      ],
      "metadata": {
        "colab": {
          "base_uri": "https://localhost:8080/"
        },
        "id": "6T_W6BNeoEyw",
        "outputId": "3ebf2e13-b426-40d9-d22d-620cbb20cce8"
      },
      "execution_count": null,
      "outputs": [
        {
          "output_type": "stream",
          "name": "stdout",
          "text": [
            "set()\n"
          ]
        }
      ]
    },
    {
      "cell_type": "markdown",
      "source": [
        "18. Write a code to remove the element 4 from the set {1, 2, 3, 4}."
      ],
      "metadata": {
        "id": "3gX6VOV1o5yw"
      }
    },
    {
      "cell_type": "code",
      "source": [
        "set3 = {1,2,3,4}\n",
        "set3.remove(4)\n",
        "print(set3)"
      ],
      "metadata": {
        "colab": {
          "base_uri": "https://localhost:8080/"
        },
        "id": "_wMakTJwo5-W",
        "outputId": "3b45aeff-6b8e-40e7-e881-86152042d076"
      },
      "execution_count": null,
      "outputs": [
        {
          "output_type": "stream",
          "name": "stdout",
          "text": [
            "{1, 2, 3}\n"
          ]
        }
      ]
    },
    {
      "cell_type": "markdown",
      "source": [
        " 19. Write a code to find the union of two sets {1, 2, 3} and {3, 4, 5}."
      ],
      "metadata": {
        "id": "y8rt0BbDpRAh"
      }
    },
    {
      "cell_type": "code",
      "source": [
        "a = {1,2,3}\n",
        "b = {3,4,5}\n",
        "print(a|b)"
      ],
      "metadata": {
        "colab": {
          "base_uri": "https://localhost:8080/"
        },
        "id": "ZIDNSqp4pROm",
        "outputId": "d0860f1f-ea42-4a31-8b53-2b6ba69460f4"
      },
      "execution_count": null,
      "outputs": [
        {
          "output_type": "stream",
          "name": "stdout",
          "text": [
            "{1, 2, 3, 4, 5}\n"
          ]
        }
      ]
    },
    {
      "cell_type": "markdown",
      "source": [
        "20. Write a code to find the intersection of two sets {1, 2, 3} and {2, 3, 4}."
      ],
      "metadata": {
        "id": "dENbPe-spwos"
      }
    },
    {
      "cell_type": "code",
      "source": [
        "x = {1,2,3}\n",
        "y = {2,3,4}\n",
        "print(x&y)"
      ],
      "metadata": {
        "colab": {
          "base_uri": "https://localhost:8080/"
        },
        "id": "Jwt1xn8apw20",
        "outputId": "022ce410-85bd-4cbb-ff8c-8abefc368844"
      },
      "execution_count": null,
      "outputs": [
        {
          "output_type": "stream",
          "name": "stdout",
          "text": [
            "{2, 3}\n"
          ]
        }
      ]
    },
    {
      "cell_type": "markdown",
      "source": [
        " 21. Write a code to create a dictionary with the keys \"name\", \"age\", and \"city\", and print it."
      ],
      "metadata": {
        "id": "S2ZGLjkkqJNU"
      }
    },
    {
      "cell_type": "code",
      "source": [
        "my_dic = {\"name\":\"Adrije Tribedi\",\"age\":19,\"city\":\"kolakta\"}\n",
        "print(my_dic)"
      ],
      "metadata": {
        "colab": {
          "base_uri": "https://localhost:8080/"
        },
        "id": "a2fsKxBmqJdy",
        "outputId": "2493ae80-a4ab-40c1-eeba-160e5ffa7958"
      },
      "execution_count": null,
      "outputs": [
        {
          "output_type": "stream",
          "name": "stdout",
          "text": [
            "{'name': 'Adrije Tribedi', 'age': 19, 'city': 'kolakta'}\n"
          ]
        }
      ]
    },
    {
      "cell_type": "markdown",
      "source": [
        " 22. Write a code to add a new key-value pair \"country\": \"USA\" to the dictionary {'name': 'John', 'age': 25}."
      ],
      "metadata": {
        "id": "vxpYOd9Nrfjl"
      }
    },
    {
      "cell_type": "code",
      "source": [
        "person = {'name':'John','age':25}\n",
        "person['country'] = 'USA'\n",
        "print(person)"
      ],
      "metadata": {
        "colab": {
          "base_uri": "https://localhost:8080/"
        },
        "id": "GYQ0gM6IrfwX",
        "outputId": "0fdb0386-a2cd-49da-ac13-bcbeb6eacfc4"
      },
      "execution_count": null,
      "outputs": [
        {
          "output_type": "stream",
          "name": "stdout",
          "text": [
            "{'name': 'John', 'age': 25, 'country': 'USA'}\n"
          ]
        }
      ]
    },
    {
      "cell_type": "markdown",
      "source": [
        "23. Write a code to access the value associated with the key \"name\" in the dictionary {'name': 'Alice', 'age': 30}."
      ],
      "metadata": {
        "id": "u59Tums8sOo5"
      }
    },
    {
      "cell_type": "code",
      "source": [
        "my_dict2 = {'name':'Alice','age':30}\n",
        "print(my_dict2['name'])"
      ],
      "metadata": {
        "colab": {
          "base_uri": "https://localhost:8080/"
        },
        "id": "bM1VLO7qsO1k",
        "outputId": "10aa1bed-b7b0-43fd-b78c-d8706d9a0c14"
      },
      "execution_count": null,
      "outputs": [
        {
          "output_type": "stream",
          "name": "stdout",
          "text": [
            "Alice\n"
          ]
        }
      ]
    },
    {
      "cell_type": "markdown",
      "source": [
        " 24. Write a code to remove the key \"age\" from the dictionary {'name': 'Bob', 'age': 22, 'city': 'New York'}."
      ],
      "metadata": {
        "id": "jjq0y_mYtB79"
      }
    },
    {
      "cell_type": "code",
      "source": [
        "my_dict3 = {'name':'Bob','age':22,'city':'new York'}\n",
        "my_dict3.pop('age')\n",
        "print(my_dict3)"
      ],
      "metadata": {
        "colab": {
          "base_uri": "https://localhost:8080/"
        },
        "id": "HOJLJzeotCLN",
        "outputId": "4227f2da-68da-4f65-c73f-b43b9677b255"
      },
      "execution_count": null,
      "outputs": [
        {
          "output_type": "stream",
          "name": "stdout",
          "text": [
            "{'name': 'Bob', 'city': 'new York'}\n"
          ]
        }
      ]
    },
    {
      "cell_type": "markdown",
      "source": [
        " 25. Write a code to check if the key \"city\" exists in the dictionary {'name': 'Alice', 'city': 'Paris'}."
      ],
      "metadata": {
        "id": "ZxBq7LKvt7fg"
      }
    },
    {
      "cell_type": "code",
      "source": [
        "my_dict4 = {'name':'Alice','city':'Paris'}\n",
        "print('city' in my_dict4)"
      ],
      "metadata": {
        "colab": {
          "base_uri": "https://localhost:8080/"
        },
        "id": "L_AAjzg8t7to",
        "outputId": "88d15488-3e68-421d-bc35-6474057bd568"
      },
      "execution_count": null,
      "outputs": [
        {
          "output_type": "stream",
          "name": "stdout",
          "text": [
            "True\n"
          ]
        }
      ]
    },
    {
      "cell_type": "markdown",
      "source": [
        " 26. Write a code to create a list, a tuple, and a dictionary, and print them all."
      ],
      "metadata": {
        "id": "KUa1fgmKvplQ"
      }
    },
    {
      "cell_type": "code",
      "source": [
        "lis = [1,2,3,4]\n",
        "tupl = (1,3,7,2,5)\n",
        "dic = {\"name\":\"Adrije Tribedi\",\"age\":\"19\"}\n",
        "print(lis)\n",
        "print(tupl)\n",
        "print(dic)"
      ],
      "metadata": {
        "colab": {
          "base_uri": "https://localhost:8080/"
        },
        "id": "sRf80ijgvqGJ",
        "outputId": "07e920b6-809e-4adb-b458-b81c7120d4cc"
      },
      "execution_count": null,
      "outputs": [
        {
          "output_type": "stream",
          "name": "stdout",
          "text": [
            "[1, 2, 3, 4]\n",
            "(1, 3, 7, 2, 5)\n",
            "{'name': 'Adrije Tribedi', 'age': '19'}\n"
          ]
        }
      ]
    },
    {
      "cell_type": "markdown",
      "source": [
        " 27. Write a code to create a list of 5 random numbers between 1 and 100, sort it in ascending order, and print the result (replaced)"
      ],
      "metadata": {
        "id": "uu8AYwL7w7mf"
      }
    },
    {
      "cell_type": "code",
      "source": [
        "list6 = [2,96,22,87,73]\n",
        "print(sorted(list6))"
      ],
      "metadata": {
        "colab": {
          "base_uri": "https://localhost:8080/"
        },
        "id": "xT71j9Lww7z7",
        "outputId": "5f6229b6-0f3b-4713-dfa0-97682b0858fd"
      },
      "execution_count": null,
      "outputs": [
        {
          "output_type": "stream",
          "name": "stdout",
          "text": [
            "[2, 22, 73, 87, 96]\n"
          ]
        }
      ]
    },
    {
      "cell_type": "markdown",
      "source": [
        "28. Write a code to create a list with strings and print the element at the third index."
      ],
      "metadata": {
        "id": "SmvTjGTvx5Rk"
      }
    },
    {
      "cell_type": "code",
      "source": [
        "names = ['Ajay','Bijay','Sanjay']\n",
        "print(names[2])"
      ],
      "metadata": {
        "colab": {
          "base_uri": "https://localhost:8080/"
        },
        "id": "j4cmhqixx5hB",
        "outputId": "8405dd31-4983-4a27-a276-0c1f4cdbe305"
      },
      "execution_count": null,
      "outputs": [
        {
          "output_type": "stream",
          "name": "stdout",
          "text": [
            "Sanjay\n"
          ]
        }
      ]
    },
    {
      "cell_type": "markdown",
      "source": [
        " 29. Write a code to combine two dictionaries into one and print the result."
      ],
      "metadata": {
        "id": "LPM11LdjyaTV"
      }
    },
    {
      "cell_type": "code",
      "source": [
        "my_id = {'name':'Adrije','age':'19','profection':'student'}\n",
        "brother_id = {'name' : 'Abhijit','age':15,'profection':'student'}\n",
        "print(my_id+brother_id)"
      ],
      "metadata": {
        "colab": {
          "base_uri": "https://localhost:8080/",
          "height": 176
        },
        "id": "28RTjI0UzGB2",
        "outputId": "f1a9c01f-cca5-4a39-b757-45cabdae7443"
      },
      "execution_count": null,
      "outputs": [
        {
          "output_type": "error",
          "ename": "TypeError",
          "evalue": "unsupported operand type(s) for +: 'dict' and 'dict'",
          "traceback": [
            "\u001b[0;31m---------------------------------------------------------------------------\u001b[0m",
            "\u001b[0;31mTypeError\u001b[0m                                 Traceback (most recent call last)",
            "\u001b[0;32m<ipython-input-52-69f4958bec91>\u001b[0m in \u001b[0;36m<cell line: 0>\u001b[0;34m()\u001b[0m\n\u001b[1;32m      1\u001b[0m \u001b[0mmy_id\u001b[0m \u001b[0;34m=\u001b[0m \u001b[0;34m{\u001b[0m\u001b[0;34m'name'\u001b[0m\u001b[0;34m:\u001b[0m\u001b[0;34m'Adrije'\u001b[0m\u001b[0;34m,\u001b[0m\u001b[0;34m'age'\u001b[0m\u001b[0;34m:\u001b[0m\u001b[0;34m'19'\u001b[0m\u001b[0;34m,\u001b[0m\u001b[0;34m'profection'\u001b[0m\u001b[0;34m:\u001b[0m\u001b[0;34m'student'\u001b[0m\u001b[0;34m}\u001b[0m\u001b[0;34m\u001b[0m\u001b[0;34m\u001b[0m\u001b[0m\n\u001b[1;32m      2\u001b[0m \u001b[0mbrother_id\u001b[0m \u001b[0;34m=\u001b[0m \u001b[0;34m{\u001b[0m\u001b[0;34m'name'\u001b[0m \u001b[0;34m:\u001b[0m \u001b[0;34m'Abhijit'\u001b[0m\u001b[0;34m,\u001b[0m\u001b[0;34m'age'\u001b[0m\u001b[0;34m:\u001b[0m\u001b[0;36m15\u001b[0m\u001b[0;34m,\u001b[0m\u001b[0;34m'profection'\u001b[0m\u001b[0;34m:\u001b[0m\u001b[0;34m'student'\u001b[0m\u001b[0;34m}\u001b[0m\u001b[0;34m\u001b[0m\u001b[0;34m\u001b[0m\u001b[0m\n\u001b[0;32m----> 3\u001b[0;31m \u001b[0mprint\u001b[0m\u001b[0;34m(\u001b[0m\u001b[0mmy_id\u001b[0m\u001b[0;34m+\u001b[0m\u001b[0mbrother_id\u001b[0m\u001b[0;34m)\u001b[0m\u001b[0;34m\u001b[0m\u001b[0;34m\u001b[0m\u001b[0m\n\u001b[0m",
            "\u001b[0;31mTypeError\u001b[0m: unsupported operand type(s) for +: 'dict' and 'dict'"
          ]
        }
      ]
    },
    {
      "cell_type": "markdown",
      "source": [
        " 30. Write a code to convert a list of strings into a set."
      ],
      "metadata": {
        "id": "-PotCrOx0PsL"
      }
    },
    {
      "cell_type": "code",
      "source": [
        "list7 = [\"Banjan\",\"egg\",\"Tomato\",\"Tomato\",\"Potato\",\"egg\",\"Banjan\"]\n",
        "s = set(list7)\n",
        "print(s)"
      ],
      "metadata": {
        "colab": {
          "base_uri": "https://localhost:8080/"
        },
        "id": "6qEZ7sHg0P62",
        "outputId": "1b4c8958-a005-4997-fb8c-6866850a0642"
      },
      "execution_count": null,
      "outputs": [
        {
          "output_type": "stream",
          "name": "stdout",
          "text": [
            "{'Banjan', 'egg', 'Tomato', 'Potato'}\n"
          ]
        }
      ]
    }
  ]
}